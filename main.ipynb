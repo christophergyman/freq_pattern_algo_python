{
 "cells": [
  {
   "cell_type": "markdown",
   "id": "da5b7383-49f6-47af-81fc-e001738a5277",
   "metadata": {},
   "source": [
    "(video link)\n",
    "[https://www.youtube.com/watch?v=Cryve9ZWbYk&t=161s]"
   ]
  },
  {
   "cell_type": "markdown",
   "id": "2c66ba1e-29b9-4f98-9597-24fd4a6a0b79",
   "metadata": {},
   "source": [
    "## Frequent Pattern Growth Algo"
   ]
  },
  {
   "cell_type": "code",
   "execution_count": null,
   "id": "676f708c-1243-442b-a1c7-12a32768cbf5",
   "metadata": {},
   "outputs": [],
   "source": []
  }
 ],
 "metadata": {
  "kernelspec": {
   "display_name": "Python 3 (ipykernel)",
   "language": "python",
   "name": "python3"
  },
  "language_info": {
   "codemirror_mode": {
    "name": "ipython",
    "version": 3
   },
   "file_extension": ".py",
   "mimetype": "text/x-python",
   "name": "python",
   "nbconvert_exporter": "python",
   "pygments_lexer": "ipython3",
   "version": "3.10.12"
  }
 },
 "nbformat": 4,
 "nbformat_minor": 5
}
